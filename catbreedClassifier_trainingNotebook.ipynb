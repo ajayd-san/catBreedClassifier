{
 "cells": [
  {
   "cell_type": "code",
   "execution_count": null,
   "metadata": {
    "id": "X-KhQxuYJrnl"
   },
   "outputs": [],
   "source": [
    "import pandas as pd\n",
    "import numpy as np\n",
    "import os\n",
    "from pathlib import Path\n",
    "import torch\n",
    "from torch.utils import data\n",
    "from torch import nn, optim\n",
    "from sklearn import model_selection, preprocessing, metrics\n",
    "import joblib\n",
    "import albumentations as A\n",
    "import torchvision"
   ]
  },
  {
   "cell_type": "markdown",
   "metadata": {
    "id": "WTocZxGcU_4L"
   },
   "source": [
    "## Download dataset"
   ]
  },
  {
   "cell_type": "code",
   "execution_count": null,
   "metadata": {
    "id": "ecJIN1IqJ4RG"
   },
   "outputs": [],
   "source": [
    "os.environ['KAGGLE_USERNAME']=''\n",
    "os.environ['KAGGLE_KEY']=''"
   ]
  },
  {
   "cell_type": "code",
   "execution_count": null,
   "metadata": {
    "colab": {
     "base_uri": "https://localhost:8080/"
    },
    "id": "BZ9YRIN3KC8m",
    "outputId": "4604ecf6-57c0-4df6-a043-71e106eba3c8"
   },
   "outputs": [
    {
     "name": "stdout",
     "output_type": "stream",
     "text": [
      "Requirement already satisfied: kaggle in /usr/local/lib/python3.7/dist-packages (1.5.12)\n",
      "Requirement already satisfied: six>=1.10 in /usr/local/lib/python3.7/dist-packages (from kaggle) (1.15.0)\n",
      "Requirement already satisfied: python-slugify in /usr/local/lib/python3.7/dist-packages (from kaggle) (6.1.0)\n",
      "Requirement already satisfied: tqdm in /usr/local/lib/python3.7/dist-packages (from kaggle) (4.62.3)\n",
      "Requirement already satisfied: python-dateutil in /usr/local/lib/python3.7/dist-packages (from kaggle) (2.8.2)\n",
      "Requirement already satisfied: certifi in /usr/local/lib/python3.7/dist-packages (from kaggle) (2021.10.8)\n",
      "Requirement already satisfied: requests in /usr/local/lib/python3.7/dist-packages (from kaggle) (2.23.0)\n",
      "Requirement already satisfied: urllib3 in /usr/local/lib/python3.7/dist-packages (from kaggle) (1.24.3)\n",
      "Requirement already satisfied: text-unidecode>=1.3 in /usr/local/lib/python3.7/dist-packages (from python-slugify->kaggle) (1.3)\n",
      "Requirement already satisfied: chardet<4,>=3.0.2 in /usr/local/lib/python3.7/dist-packages (from requests->kaggle) (3.0.4)\n",
      "Requirement already satisfied: idna<3,>=2.5 in /usr/local/lib/python3.7/dist-packages (from requests->kaggle) (2.10)\n",
      "Downloading cats-and-dogs-breeds-classification-oxford-dataset.zip to /content\n",
      " 98% 768M/780M [00:06<00:00, 169MB/s]\n",
      "100% 780M/780M [00:06<00:00, 131MB/s]\n"
     ]
    }
   ],
   "source": [
    "!pip install kaggle \n",
    "!kaggle datasets download -d zippyz/cats-and-dogs-breeds-classification-oxford-dataset\n",
    "!unzip -q cat*\n"
   ]
  },
  {
   "cell_type": "markdown",
   "metadata": {
    "id": "ZlnUmWBrVG5x"
   },
   "source": [
    "## Making a dataframe with image paths and labels"
   ]
  },
  {
   "cell_type": "code",
   "execution_count": null,
   "metadata": {
    "id": "Y6QZo2zKKXm9"
   },
   "outputs": [],
   "source": [
    "img_root_dir = Path('images')\n",
    "img_paths = list(img_root_dir.glob('**/*.jpg'))\n",
    "labels = list(map(lambda path_: os.path.split(path_)[1], img_paths))\n",
    "labels = list(map(lambda path: path.rsplit('_', 1)[-2], labels))\n",
    "df = pd.DataFrame({'path': img_paths, 'labels': labels})"
   ]
  },
  {
   "cell_type": "code",
   "execution_count": null,
   "metadata": {
    "id": "D89zmi0wNT-d"
   },
   "outputs": [],
   "source": [
    "mask = df['labels'].str[0].str.isupper()\n",
    "df_final = df.loc[mask].copy()"
   ]
  },
  {
   "cell_type": "code",
   "execution_count": null,
   "metadata": {
    "id": "vn3LWb7Y1bxi"
   },
   "outputs": [],
   "source": [
    "df_final['labels'] = df_final['labels'].str.replace('_', ' ')"
   ]
  },
  {
   "cell_type": "code",
   "execution_count": null,
   "metadata": {
    "id": "qOoHbirj6d2J"
   },
   "outputs": [],
   "source": [
    "lbl_encoder = preprocessing.LabelEncoder()\n",
    "labels = lbl_encoder.fit_transform(df_final['labels'])"
   ]
  },
  {
   "cell_type": "code",
   "execution_count": null,
   "metadata": {
    "id": "TxImlSRi7-jv"
   },
   "outputs": [],
   "source": [
    "df_final['labels'] = labels\n",
    "df_final.reset_index(inplace = True, drop = True)"
   ]
  },
  {
   "cell_type": "markdown",
   "metadata": {
    "id": "TbHFNhh_VM8h"
   },
   "source": [
    "## cloning my pytorch framework, for a more 'clean' experience"
   ]
  },
  {
   "cell_type": "code",
   "execution_count": null,
   "metadata": {
    "colab": {
     "base_uri": "https://localhost:8080/"
    },
    "id": "rPrn9yHV29od",
    "outputId": "ea549a14-9348-4861-d663-9dd34436c67a"
   },
   "outputs": [
    {
     "name": "stdout",
     "output_type": "stream",
     "text": [
      "Cloning into 'easyTorch'...\n",
      "remote: Enumerating objects: 68, done.\u001b[K\n",
      "remote: Counting objects: 100% (68/68), done.\u001b[K\n",
      "remote: Compressing objects: 100% (50/50), done.\u001b[K\n",
      "remote: Total 68 (delta 20), reused 65 (delta 17), pack-reused 0\u001b[K\n",
      "Unpacking objects: 100% (68/68), done.\n"
     ]
    }
   ],
   "source": [
    "!git clone -b testing https://github.com/default-303/easyTorch.git"
   ]
  },
  {
   "cell_type": "markdown",
   "metadata": {
    "id": "LTfLLuXbVc-o"
   },
   "source": [
    "## Installing albumentations, a library I use for image transforms"
   ]
  },
  {
   "cell_type": "code",
   "execution_count": null,
   "metadata": {
    "colab": {
     "base_uri": "https://localhost:8080/"
    },
    "id": "_99GyaR76JZg",
    "outputId": "8af4ee00-4eca-4672-cbab-7c31fa6e1a90"
   },
   "outputs": [
    {
     "name": "stdout",
     "output_type": "stream",
     "text": [
      "Requirement already satisfied: albumentations in /usr/local/lib/python3.7/dist-packages (0.1.12)\n",
      "Requirement already satisfied: opencv-python in /usr/local/lib/python3.7/dist-packages (from albumentations) (4.1.2.30)\n",
      "Collecting imgaug<0.2.7,>=0.2.5\n",
      "  Downloading imgaug-0.2.6.tar.gz (631 kB)\n",
      "\u001b[K     |████████████████████████████████| 631 kB 5.4 MB/s \n",
      "\u001b[?25hRequirement already satisfied: scipy in /usr/local/lib/python3.7/dist-packages (from albumentations) (1.4.1)\n",
      "Requirement already satisfied: numpy>=1.11.1 in /usr/local/lib/python3.7/dist-packages (from albumentations) (1.21.5)\n",
      "Requirement already satisfied: scikit-image>=0.11.0 in /usr/local/lib/python3.7/dist-packages (from imgaug<0.2.7,>=0.2.5->albumentations) (0.18.3)\n",
      "Requirement already satisfied: six in /usr/local/lib/python3.7/dist-packages (from imgaug<0.2.7,>=0.2.5->albumentations) (1.15.0)\n",
      "Requirement already satisfied: tifffile>=2019.7.26 in /usr/local/lib/python3.7/dist-packages (from scikit-image>=0.11.0->imgaug<0.2.7,>=0.2.5->albumentations) (2021.11.2)\n",
      "Requirement already satisfied: matplotlib!=3.0.0,>=2.0.0 in /usr/local/lib/python3.7/dist-packages (from scikit-image>=0.11.0->imgaug<0.2.7,>=0.2.5->albumentations) (3.2.2)\n",
      "Requirement already satisfied: PyWavelets>=1.1.1 in /usr/local/lib/python3.7/dist-packages (from scikit-image>=0.11.0->imgaug<0.2.7,>=0.2.5->albumentations) (1.2.0)\n",
      "Requirement already satisfied: networkx>=2.0 in /usr/local/lib/python3.7/dist-packages (from scikit-image>=0.11.0->imgaug<0.2.7,>=0.2.5->albumentations) (2.6.3)\n",
      "Requirement already satisfied: pillow!=7.1.0,!=7.1.1,>=4.3.0 in /usr/local/lib/python3.7/dist-packages (from scikit-image>=0.11.0->imgaug<0.2.7,>=0.2.5->albumentations) (7.1.2)\n",
      "Requirement already satisfied: imageio>=2.3.0 in /usr/local/lib/python3.7/dist-packages (from scikit-image>=0.11.0->imgaug<0.2.7,>=0.2.5->albumentations) (2.4.1)\n",
      "Requirement already satisfied: python-dateutil>=2.1 in /usr/local/lib/python3.7/dist-packages (from matplotlib!=3.0.0,>=2.0.0->scikit-image>=0.11.0->imgaug<0.2.7,>=0.2.5->albumentations) (2.8.2)\n",
      "Requirement already satisfied: cycler>=0.10 in /usr/local/lib/python3.7/dist-packages (from matplotlib!=3.0.0,>=2.0.0->scikit-image>=0.11.0->imgaug<0.2.7,>=0.2.5->albumentations) (0.11.0)\n",
      "Requirement already satisfied: kiwisolver>=1.0.1 in /usr/local/lib/python3.7/dist-packages (from matplotlib!=3.0.0,>=2.0.0->scikit-image>=0.11.0->imgaug<0.2.7,>=0.2.5->albumentations) (1.3.2)\n",
      "Requirement already satisfied: pyparsing!=2.0.4,!=2.1.2,!=2.1.6,>=2.0.1 in /usr/local/lib/python3.7/dist-packages (from matplotlib!=3.0.0,>=2.0.0->scikit-image>=0.11.0->imgaug<0.2.7,>=0.2.5->albumentations) (3.0.7)\n",
      "Building wheels for collected packages: imgaug\n",
      "  Building wheel for imgaug (setup.py) ... \u001b[?25l\u001b[?25hdone\n",
      "  Created wheel for imgaug: filename=imgaug-0.2.6-py3-none-any.whl size=654017 sha256=44f4b7371e6f95c9639b82f7bfaa48b120d7d9ac933f720900a3b756e16b59de\n",
      "  Stored in directory: /root/.cache/pip/wheels/89/72/98/3ebfdba1069a9a8eaaa7ae7265cfd67d63ef0197aaee2e5f9c\n",
      "Successfully built imgaug\n",
      "Installing collected packages: imgaug\n",
      "  Attempting uninstall: imgaug\n",
      "    Found existing installation: imgaug 0.2.9\n",
      "    Uninstalling imgaug-0.2.9:\n",
      "      Successfully uninstalled imgaug-0.2.9\n",
      "Successfully installed imgaug-0.2.6\n"
     ]
    }
   ],
   "source": [
    "!pip install albumentations"
   ]
  },
  {
   "cell_type": "code",
   "execution_count": null,
   "metadata": {
    "id": "XTUzlNjIMRS2"
   },
   "outputs": [],
   "source": [
    "BATCH_SIZE = 224\n",
    "EPOCHS = 10\n",
    "LEARNING_RATE = 0.01\n",
    "device = 'cuda:0' if torch.cuda.is_available() else 'cpu'"
   ]
  },
  {
   "cell_type": "code",
   "execution_count": null,
   "metadata": {
    "id": "9L7eapte5mVd"
   },
   "outputs": [],
   "source": [
    "image_transforms = {\n",
    "    'train': A.Compose([\n",
    "        A.Resize(224, 224),\n",
    "        A.HorizontalFlip(p = 0.6),\n",
    "        A.Rotate([-40, 40], border_mode = cv2.BORDER_CONSTANT)\n",
    "    ]), \n",
    "    'val': A.Compose([\n",
    "        A.Resize(224, 224)\n",
    "    ])\n",
    "}"
   ]
  },
  {
   "cell_type": "markdown",
   "metadata": {
    "id": "8fymgyhQV6NN"
   },
   "source": [
    "## Splitting the dataset"
   ]
  },
  {
   "cell_type": "code",
   "execution_count": null,
   "metadata": {
    "id": "9gEBDJTE8C79"
   },
   "outputs": [],
   "source": [
    "train_index, test_index = model_selection.train_test_split(df_final.index.values, test_size = 0.1, shuffle = True, stratify = df_final['labels'])"
   ]
  },
  {
   "cell_type": "markdown",
   "metadata": {
    "id": "_9Wv8SuoVjJ5"
   },
   "source": [
    "## Initializing Datasets and Dataloader "
   ]
  },
  {
   "cell_type": "code",
   "execution_count": null,
   "metadata": {
    "id": "6Mn704qcFvUr"
   },
   "outputs": [],
   "source": [
    "datasets = {\n",
    "    'train': imageDataset.CustomDataset(df_final.loc[train_index], image_transforms['val'], exit_on_error = True, random_on_error = False),\n",
    "    'val': imageDataset.CustomDataset(df_final.loc[test_index], image_transforms['val'], exit_on_error = True, random_on_error = False),\n",
    "}"
   ]
  },
  {
   "cell_type": "code",
   "execution_count": null,
   "metadata": {
    "id": "9w8LBu2TGN3-"
   },
   "outputs": [],
   "source": [
    "samplers = {\n",
    "    'train': data.SubsetRandomSampler(np.arange(len(train_index))),\n",
    "    'val': data.SubsetRandomSampler(np.arange(len(test_index)))\n",
    "}\n",
    "\n",
    "dataloaders = {\n",
    "    'train': data.DataLoader(datasets['train'], batch_size = BATCH_SIZE, sampler = samplers['train']),\n",
    "    'val': data.DataLoader(datasets['val'], batch_size = BATCH_SIZE, sampler = samplers['val'])\n",
    "}"
   ]
  },
  {
   "cell_type": "markdown",
   "metadata": {
    "id": "oWYE_AuaWBCm"
   },
   "source": [
    "## Initialzing and modifying densenet"
   ]
  },
  {
   "cell_type": "code",
   "execution_count": null,
   "metadata": {
    "colab": {
     "base_uri": "https://localhost:8080/",
     "height": 87,
     "referenced_widgets": [
      "81e10c230441446795ffccb50fd97561",
      "0543ad187e594f69a8dc86993c16d823",
      "70b9c3702c0342d0a191997a2acac452",
      "7c97c004966044b39c377dbe8d8a7b4b",
      "07e0997df4414736b5d922e0dc7e27ee",
      "136ecda08d8a46c7b365f2dea32abd5b",
      "756ce40ae68c49749cd51320c4a5e41c",
      "09b31be59e2e42a89e3747f60cecd1f8",
      "487c8c8ce563494aa8ba671db8eff266",
      "7f8cfe9046ec4bb4a7065eb142d34681",
      "9fbe3cd5be354d2998e41898b6eb3761"
     ]
    },
    "id": "-yfI7v4aSw2v",
    "outputId": "1c6a12e1-169f-49b5-c80c-79aabcf66184"
   },
   "outputs": [
    {
     "name": "stderr",
     "output_type": "stream",
     "text": [
      "Downloading: \"https://download.pytorch.org/models/densenet121-a639ec97.pth\" to /root/.cache/torch/hub/checkpoints/densenet121-a639ec97.pth\n"
     ]
    },
    {
     "data": {
      "application/vnd.jupyter.widget-view+json": {
       "model_id": "81e10c230441446795ffccb50fd97561",
       "version_major": 2,
       "version_minor": 0
      },
      "text/plain": [
       "  0%|          | 0.00/30.8M [00:00<?, ?B/s]"
      ]
     },
     "metadata": {},
     "output_type": "display_data"
    }
   ],
   "source": [
    "import torchvision\n",
    "densenet = torchvision.models.densenet121(pretrained = True)\n",
    "\n",
    "for param in densenet.parameters():\n",
    "    param.requires_grad = False"
   ]
  },
  {
   "cell_type": "code",
   "execution_count": null,
   "metadata": {
    "id": "746a7gKTJcRh"
   },
   "outputs": [],
   "source": [
    "import torch.nn.functional as F\n",
    "class ModifiedPretrained(nn.Module):\n",
    "    def __init__(self, pretrained_model):\n",
    "        super().__init__()\n",
    "        self.modifiedModel = pretrained_model\n",
    "        in_features = self.modifiedModel.classifier.in_features\n",
    "        model = nn.Sequential(\n",
    "            nn.Linear(in_features, 512), \n",
    "            nn.ReLU(),\n",
    "            nn.Linear(512, 128), \n",
    "            nn.ReLU(),\n",
    "            nn.Linear(128, 12)\n",
    "        )\n",
    "\n",
    "        self.modifiedModel.classifier = model\n",
    "\n",
    "        \n",
    "    \n",
    "    def forward(self, input):\n",
    "        logits = self.modifiedModel(input)\n",
    "        return logits\n",
    "\n",
    "\n",
    "modfiedDNet = ModifiedPretrained(densenet)\n",
    "\n",
    "modfiedDNet = modfiedDNet.to(device)\n",
    "\n"
   ]
  },
  {
   "cell_type": "code",
   "execution_count": null,
   "metadata": {
    "id": "tos8PKtlPJkU"
   },
   "outputs": [],
   "source": [
    "optimizer = optim.Adam(modfiedDNet.parameters(), lr = LEARNING_RATE)\n",
    "loss_func = nn.CrossEntropyLoss()\n",
    "scheduler = optim.lr_scheduler.ReduceLROnPlateau(optimizer, patience = 5, factor = 0.1, verbose = True)\n",
    "metrics_ = [(metrics.recall_score, {'average': 'micro'}),(metrics.recall_score, {'average': 'macro'})]"
   ]
  },
  {
   "cell_type": "markdown",
   "metadata": {
    "id": "zVpeZSk3WIqU"
   },
   "source": [
    "## Training"
   ]
  },
  {
   "cell_type": "code",
   "execution_count": null,
   "metadata": {
    "id": "Nh5xF0v-TFHT"
   },
   "outputs": [],
   "source": [
    "model = trainer.Trainer(modfiedDNet,metrics_ , loss_func, optimizer, scheduler)"
   ]
  },
  {
   "cell_type": "code",
   "execution_count": null,
   "metadata": {
    "colab": {
     "base_uri": "https://localhost:8080/"
    },
    "id": "GSHZjhbFUUzK",
    "outputId": "d7aaa57a-1a57-419e-bd8f-7f977665e3e8"
   },
   "outputs": [
    {
     "name": "stderr",
     "output_type": "stream",
     "text": [
      "[Train]Epoch [0/10]: 100%|██████████| 10/10 [00:29<00:00,  2.94s/it]\n"
     ]
    },
    {
     "name": "stdout",
     "output_type": "stream",
     "text": [
      "\n",
      " running loss: 3.130086287745723, running acc: 0.11666666666666667\n",
      "\n",
      "recall_score: 0.11666666666666667\n",
      "\n",
      "recall_score: 0.11666666666666665\n"
     ]
    },
    {
     "name": "stderr",
     "output_type": "stream",
     "text": [
      "[VAL] Epoch [0/10]:  50%|█████     | 1/2 [00:02<00:02,  2.93s/it]"
     ]
    },
    {
     "name": "stdout",
     "output_type": "stream",
     "text": [
      "\n",
      " running loss: 2.1162364641825357\n"
     ]
    },
    {
     "name": "stderr",
     "output_type": "stream",
     "text": [
      "[VAL] Epoch [0/10]: 100%|██████████| 2/2 [00:03<00:00,  1.59s/it]\n"
     ]
    },
    {
     "name": "stdout",
     "output_type": "stream",
     "text": [
      "\n",
      " running loss: 2.267092148462931\n",
      "\n",
      "recall_score: 0.3875\n",
      "\n",
      "recall_score: 0.3875\n"
     ]
    },
    {
     "name": "stderr",
     "output_type": "stream",
     "text": [
      "[Train]Epoch [1/10]: 100%|██████████| 10/10 [00:28<00:00,  2.87s/it]\n"
     ]
    },
    {
     "name": "stdout",
     "output_type": "stream",
     "text": [
      "\n",
      " running loss: 1.7026762379540337, running acc: 0.4587962962962963\n",
      "\n",
      "recall_score: 0.4587962962962963\n",
      "\n",
      "recall_score: 0.4587962962962962\n"
     ]
    },
    {
     "name": "stderr",
     "output_type": "stream",
     "text": [
      "[VAL] Epoch [1/10]:  50%|█████     | 1/2 [00:02<00:02,  2.84s/it]"
     ]
    },
    {
     "name": "stdout",
     "output_type": "stream",
     "text": [
      "\n",
      " running loss: 0.9022506793340047\n"
     ]
    },
    {
     "name": "stderr",
     "output_type": "stream",
     "text": [
      "[VAL] Epoch [1/10]: 100%|██████████| 2/2 [00:03<00:00,  1.55s/it]\n"
     ]
    },
    {
     "name": "stdout",
     "output_type": "stream",
     "text": [
      "\n",
      " running loss: 0.9493769208590189\n",
      "\n",
      "recall_score: 0.725\n",
      "\n",
      "recall_score: 0.7250000000000001\n"
     ]
    },
    {
     "name": "stderr",
     "output_type": "stream",
     "text": [
      "[Train]Epoch [2/10]: 100%|██████████| 10/10 [00:28<00:00,  2.81s/it]\n"
     ]
    },
    {
     "name": "stdout",
     "output_type": "stream",
     "text": [
      "\n",
      " running loss: 0.7097618615185773, running acc: 0.7652777777777777\n",
      "\n",
      "recall_score: 0.7652777777777777\n",
      "\n",
      "recall_score: 0.7652777777777778\n"
     ]
    },
    {
     "name": "stderr",
     "output_type": "stream",
     "text": [
      "[VAL] Epoch [2/10]:  50%|█████     | 1/2 [00:02<00:02,  2.88s/it]"
     ]
    },
    {
     "name": "stdout",
     "output_type": "stream",
     "text": [
      "\n",
      " running loss: 0.5751827796300252\n"
     ]
    },
    {
     "name": "stderr",
     "output_type": "stream",
     "text": [
      "[VAL] Epoch [2/10]: 100%|██████████| 2/2 [00:03<00:00,  1.56s/it]\n"
     ]
    },
    {
     "name": "stdout",
     "output_type": "stream",
     "text": [
      "\n",
      " running loss: 0.6255304336547851\n",
      "\n",
      "recall_score: 0.7791666666666667\n",
      "\n",
      "recall_score: 0.7791666666666667\n"
     ]
    },
    {
     "name": "stderr",
     "output_type": "stream",
     "text": [
      "[Train]Epoch [3/10]: 100%|██████████| 10/10 [00:28<00:00,  2.81s/it]\n"
     ]
    },
    {
     "name": "stdout",
     "output_type": "stream",
     "text": [
      "\n",
      " running loss: 0.4860604014661577, running acc: 0.8222222222222222\n",
      "\n",
      "recall_score: 0.8222222222222222\n",
      "\n",
      "recall_score: 0.8222222222222223\n"
     ]
    },
    {
     "name": "stderr",
     "output_type": "stream",
     "text": [
      "[VAL] Epoch [3/10]:  50%|█████     | 1/2 [00:02<00:02,  2.82s/it]"
     ]
    },
    {
     "name": "stdout",
     "output_type": "stream",
     "text": [
      "\n",
      " running loss: 0.4845381816228231\n"
     ]
    },
    {
     "name": "stderr",
     "output_type": "stream",
     "text": [
      "[VAL] Epoch [3/10]: 100%|██████████| 2/2 [00:03<00:00,  1.53s/it]\n"
     ]
    },
    {
     "name": "stdout",
     "output_type": "stream",
     "text": [
      "\n",
      " running loss: 0.4987465441226959\n",
      "\n",
      "recall_score: 0.8416666666666667\n",
      "\n",
      "recall_score: 0.8416666666666667\n"
     ]
    },
    {
     "name": "stderr",
     "output_type": "stream",
     "text": [
      "[Train]Epoch [4/10]: 100%|██████████| 10/10 [00:28<00:00,  2.80s/it]\n"
     ]
    },
    {
     "name": "stdout",
     "output_type": "stream",
     "text": [
      "\n",
      " running loss: 0.38837584831096505, running acc: 0.8625\n",
      "\n",
      "recall_score: 0.8625\n",
      "\n",
      "recall_score: 0.8624999999999999\n"
     ]
    },
    {
     "name": "stderr",
     "output_type": "stream",
     "text": [
      "[VAL] Epoch [4/10]:  50%|█████     | 1/2 [00:02<00:02,  2.83s/it]"
     ]
    },
    {
     "name": "stdout",
     "output_type": "stream",
     "text": [
      "\n",
      " running loss: 0.4806172529856364\n"
     ]
    },
    {
     "name": "stderr",
     "output_type": "stream",
     "text": [
      "[VAL] Epoch [4/10]: 100%|██████████| 2/2 [00:03<00:00,  1.53s/it]\n"
     ]
    },
    {
     "name": "stdout",
     "output_type": "stream",
     "text": [
      "\n",
      " running loss: 0.5077383100986481\n",
      "\n",
      "recall_score: 0.85\n",
      "\n",
      "recall_score: 0.85\n"
     ]
    },
    {
     "name": "stderr",
     "output_type": "stream",
     "text": [
      "[Train]Epoch [5/10]: 100%|██████████| 10/10 [00:27<00:00,  2.76s/it]\n"
     ]
    },
    {
     "name": "stdout",
     "output_type": "stream",
     "text": [
      "\n",
      " running loss: 0.2940617486282631, running acc: 0.8953703703703704\n",
      "\n",
      "recall_score: 0.8953703703703704\n",
      "\n",
      "recall_score: 0.8953703703703705\n"
     ]
    },
    {
     "name": "stderr",
     "output_type": "stream",
     "text": [
      "[VAL] Epoch [5/10]:  50%|█████     | 1/2 [00:02<00:02,  2.76s/it]"
     ]
    },
    {
     "name": "stdout",
     "output_type": "stream",
     "text": [
      "\n",
      " running loss: 0.40717837810516355\n"
     ]
    },
    {
     "name": "stderr",
     "output_type": "stream",
     "text": [
      "[VAL] Epoch [5/10]: 100%|██████████| 2/2 [00:02<00:00,  1.49s/it]\n"
     ]
    },
    {
     "name": "stdout",
     "output_type": "stream",
     "text": [
      "\n",
      " running loss: 0.43538601795832316\n",
      "\n",
      "recall_score: 0.8791666666666667\n",
      "\n",
      "recall_score: 0.8791666666666665\n"
     ]
    },
    {
     "name": "stderr",
     "output_type": "stream",
     "text": [
      "[Train]Epoch [6/10]: 100%|██████████| 10/10 [00:27<00:00,  2.74s/it]\n"
     ]
    },
    {
     "name": "stdout",
     "output_type": "stream",
     "text": [
      "\n",
      " running loss: 0.2367261115047667, running acc: 0.9138888888888889\n",
      "\n",
      "recall_score: 0.9138888888888889\n",
      "\n",
      "recall_score: 0.9138888888888889\n"
     ]
    },
    {
     "name": "stderr",
     "output_type": "stream",
     "text": [
      "[VAL] Epoch [6/10]:  50%|█████     | 1/2 [00:02<00:02,  2.81s/it]"
     ]
    },
    {
     "name": "stdout",
     "output_type": "stream",
     "text": [
      "\n",
      " running loss: 0.4293195724487305\n"
     ]
    },
    {
     "name": "stderr",
     "output_type": "stream",
     "text": [
      "[VAL] Epoch [6/10]: 100%|██████████| 2/2 [00:03<00:00,  1.53s/it]\n"
     ]
    },
    {
     "name": "stdout",
     "output_type": "stream",
     "text": [
      "\n",
      " running loss: 0.4405296941598256\n",
      "\n",
      "recall_score: 0.875\n",
      "\n",
      "recall_score: 0.875\n"
     ]
    },
    {
     "name": "stderr",
     "output_type": "stream",
     "text": [
      "[Train]Epoch [7/10]: 100%|██████████| 10/10 [00:27<00:00,  2.76s/it]\n"
     ]
    },
    {
     "name": "stdout",
     "output_type": "stream",
     "text": [
      "\n",
      " running loss: 0.18997885231618528, running acc: 0.9351851851851852\n",
      "\n",
      "recall_score: 0.9351851851851852\n",
      "\n",
      "recall_score: 0.9351851851851851\n"
     ]
    },
    {
     "name": "stderr",
     "output_type": "stream",
     "text": [
      "[VAL] Epoch [7/10]:  50%|█████     | 1/2 [00:02<00:02,  2.85s/it]"
     ]
    },
    {
     "name": "stdout",
     "output_type": "stream",
     "text": [
      "\n",
      " running loss: 0.44262392123540245\n"
     ]
    },
    {
     "name": "stderr",
     "output_type": "stream",
     "text": [
      "[VAL] Epoch [7/10]: 100%|██████████| 2/2 [00:03<00:00,  1.54s/it]\n"
     ]
    },
    {
     "name": "stdout",
     "output_type": "stream",
     "text": [
      "\n",
      " running loss: 0.4469714224338531\n",
      "\n",
      "recall_score: 0.8791666666666667\n",
      "\n",
      "recall_score: 0.8791666666666665\n"
     ]
    },
    {
     "name": "stderr",
     "output_type": "stream",
     "text": [
      "[Train]Epoch [8/10]: 100%|██████████| 10/10 [00:27<00:00,  2.80s/it]\n"
     ]
    },
    {
     "name": "stdout",
     "output_type": "stream",
     "text": [
      "\n",
      " running loss: 0.1704140435214396, running acc: 0.9388888888888889\n",
      "\n",
      "recall_score: 0.9388888888888889\n",
      "\n",
      "recall_score: 0.9388888888888888\n"
     ]
    },
    {
     "name": "stderr",
     "output_type": "stream",
     "text": [
      "[VAL] Epoch [8/10]:  50%|█████     | 1/2 [00:02<00:02,  2.88s/it]"
     ]
    },
    {
     "name": "stdout",
     "output_type": "stream",
     "text": [
      "\n",
      " running loss: 0.48778586387634276\n"
     ]
    },
    {
     "name": "stderr",
     "output_type": "stream",
     "text": [
      "[VAL] Epoch [8/10]: 100%|██████████| 2/2 [00:03<00:00,  1.57s/it]\n"
     ]
    },
    {
     "name": "stdout",
     "output_type": "stream",
     "text": [
      "\n",
      " running loss: 0.5477863033612569\n",
      "\n",
      "recall_score: 0.8416666666666667\n",
      "\n",
      "recall_score: 0.8416666666666667\n"
     ]
    },
    {
     "name": "stderr",
     "output_type": "stream",
     "text": [
      "[Train]Epoch [9/10]: 100%|██████████| 10/10 [00:28<00:00,  2.81s/it]\n"
     ]
    },
    {
     "name": "stdout",
     "output_type": "stream",
     "text": [
      "\n",
      " running loss: 0.18297247494812366, running acc: 0.9361111111111111\n",
      "\n",
      "recall_score: 0.9361111111111111\n",
      "\n",
      "recall_score: 0.9361111111111112\n"
     ]
    },
    {
     "name": "stderr",
     "output_type": "stream",
     "text": [
      "[VAL] Epoch [9/10]:  50%|█████     | 1/2 [00:02<00:02,  2.87s/it]"
     ]
    },
    {
     "name": "stdout",
     "output_type": "stream",
     "text": [
      "\n",
      " running loss: 0.41937811772028605\n"
     ]
    },
    {
     "name": "stderr",
     "output_type": "stream",
     "text": [
      "[VAL] Epoch [9/10]: 100%|██████████| 2/2 [00:03<00:00,  1.55s/it]"
     ]
    },
    {
     "name": "stdout",
     "output_type": "stream",
     "text": [
      "\n",
      " running loss: 0.4385028521219889\n",
      "\n",
      "recall_score: 0.875\n",
      "\n",
      "recall_score: 0.875\n"
     ]
    },
    {
     "name": "stderr",
     "output_type": "stream",
     "text": [
      "\n"
     ]
    }
   ],
   "source": [
    "model.fit(dataloaders)"
   ]
  },
  {
   "cell_type": "markdown",
   "metadata": {
    "id": "akE6XhvnWMk0"
   },
   "source": [
    "## Saving model state dict (and label encoder) for future use"
   ]
  },
  {
   "cell_type": "code",
   "execution_count": null,
   "metadata": {
    "id": "YnKMSwoOUkQq"
   },
   "outputs": [],
   "source": [
    "torch.save(modfiedDNet.state_dict(), './iniModel.pth')"
   ]
  },
  {
   "cell_type": "code",
   "execution_count": null,
   "metadata": {
    "colab": {
     "base_uri": "https://localhost:8080/"
    },
    "id": "V4JuH1eV4ymR",
    "outputId": "4aaf6677-76c6-4c39-9ddb-ebc1fecbf86d"
   },
   "outputs": [
    {
     "data": {
      "text/plain": [
       "['labelEncoder.joblib']"
      ]
     },
     "execution_count": 44,
     "metadata": {},
     "output_type": "execute_result"
    }
   ],
   "source": [
    "joblib.dump(lbl_encoder, 'labelEncoder.joblib')"
   ]
  },
  {
   "cell_type": "markdown",
   "metadata": {
    "id": "Gg2fhwDNWVa6"
   },
   "source": [
    "## Predict function to take care of image preprocessing and predicition"
   ]
  },
  {
   "cell_type": "code",
   "execution_count": null,
   "metadata": {
    "id": "KI7jrt9CJxAJ"
   },
   "outputs": [],
   "source": [
    "def predict(model, image_path):\n",
    "    img = io.imread(image_path)\n",
    "    img = transform(image = img)['image']\n",
    "    img = torch.tensor(img, dtype = torch.float)\n",
    "    img = torch.permute(img, (2, 0, 1))\n",
    "    img = torch.unsqueeze(img, 0)\n",
    "    logits = model(img.cuda())\n",
    "    pred = F.softmax(logits, 1)\n",
    "    print(pred)\n",
    "    return torch.argmax(pred, 1)\n",
    "    \n",
    "    \n",
    "predict(modfiedDNet, 'aby.png')"
   ]
  }
 ],
 "metadata": {
  "colab": {
   "collapsed_sections": [],
   "name": "catbreedNew.ipynb",
   "provenance": []
  },
  "kernelspec": {
   "display_name": "Python 3 (ipykernel)",
   "language": "python",
   "name": "python3"
  },
  "language_info": {
   "codemirror_mode": {
    "name": "ipython",
    "version": 3
   },
   "file_extension": ".py",
   "mimetype": "text/x-python",
   "name": "python",
   "nbconvert_exporter": "python",
   "pygments_lexer": "ipython3",
   "version": "3.9.10"
  },
  "widgets": {
   "application/vnd.jupyter.widget-state+json": {
    "0543ad187e594f69a8dc86993c16d823": {
     "model_module": "@jupyter-widgets/base",
     "model_module_version": "1.2.0",
     "model_name": "LayoutModel",
     "state": {
      "_model_module": "@jupyter-widgets/base",
      "_model_module_version": "1.2.0",
      "_model_name": "LayoutModel",
      "_view_count": null,
      "_view_module": "@jupyter-widgets/base",
      "_view_module_version": "1.2.0",
      "_view_name": "LayoutView",
      "align_content": null,
      "align_items": null,
      "align_self": null,
      "border": null,
      "bottom": null,
      "display": null,
      "flex": null,
      "flex_flow": null,
      "grid_area": null,
      "grid_auto_columns": null,
      "grid_auto_flow": null,
      "grid_auto_rows": null,
      "grid_column": null,
      "grid_gap": null,
      "grid_row": null,
      "grid_template_areas": null,
      "grid_template_columns": null,
      "grid_template_rows": null,
      "height": null,
      "justify_content": null,
      "justify_items": null,
      "left": null,
      "margin": null,
      "max_height": null,
      "max_width": null,
      "min_height": null,
      "min_width": null,
      "object_fit": null,
      "object_position": null,
      "order": null,
      "overflow": null,
      "overflow_x": null,
      "overflow_y": null,
      "padding": null,
      "right": null,
      "top": null,
      "visibility": null,
      "width": null
     }
    },
    "07e0997df4414736b5d922e0dc7e27ee": {
     "model_module": "@jupyter-widgets/controls",
     "model_module_version": "1.5.0",
     "model_name": "HTMLModel",
     "state": {
      "_dom_classes": [],
      "_model_module": "@jupyter-widgets/controls",
      "_model_module_version": "1.5.0",
      "_model_name": "HTMLModel",
      "_view_count": null,
      "_view_module": "@jupyter-widgets/controls",
      "_view_module_version": "1.5.0",
      "_view_name": "HTMLView",
      "description": "",
      "description_tooltip": null,
      "layout": "IPY_MODEL_9fbe3cd5be354d2998e41898b6eb3761",
      "placeholder": "​",
      "style": "IPY_MODEL_7f8cfe9046ec4bb4a7065eb142d34681",
      "value": " 30.8M/30.8M [00:00&lt;00:00, 113MB/s]"
     }
    },
    "09b31be59e2e42a89e3747f60cecd1f8": {
     "model_module": "@jupyter-widgets/controls",
     "model_module_version": "1.5.0",
     "model_name": "ProgressStyleModel",
     "state": {
      "_model_module": "@jupyter-widgets/controls",
      "_model_module_version": "1.5.0",
      "_model_name": "ProgressStyleModel",
      "_view_count": null,
      "_view_module": "@jupyter-widgets/base",
      "_view_module_version": "1.2.0",
      "_view_name": "StyleView",
      "bar_color": null,
      "description_width": ""
     }
    },
    "136ecda08d8a46c7b365f2dea32abd5b": {
     "model_module": "@jupyter-widgets/controls",
     "model_module_version": "1.5.0",
     "model_name": "DescriptionStyleModel",
     "state": {
      "_model_module": "@jupyter-widgets/controls",
      "_model_module_version": "1.5.0",
      "_model_name": "DescriptionStyleModel",
      "_view_count": null,
      "_view_module": "@jupyter-widgets/base",
      "_view_module_version": "1.2.0",
      "_view_name": "StyleView",
      "description_width": ""
     }
    },
    "487c8c8ce563494aa8ba671db8eff266": {
     "model_module": "@jupyter-widgets/base",
     "model_module_version": "1.2.0",
     "model_name": "LayoutModel",
     "state": {
      "_model_module": "@jupyter-widgets/base",
      "_model_module_version": "1.2.0",
      "_model_name": "LayoutModel",
      "_view_count": null,
      "_view_module": "@jupyter-widgets/base",
      "_view_module_version": "1.2.0",
      "_view_name": "LayoutView",
      "align_content": null,
      "align_items": null,
      "align_self": null,
      "border": null,
      "bottom": null,
      "display": null,
      "flex": null,
      "flex_flow": null,
      "grid_area": null,
      "grid_auto_columns": null,
      "grid_auto_flow": null,
      "grid_auto_rows": null,
      "grid_column": null,
      "grid_gap": null,
      "grid_row": null,
      "grid_template_areas": null,
      "grid_template_columns": null,
      "grid_template_rows": null,
      "height": null,
      "justify_content": null,
      "justify_items": null,
      "left": null,
      "margin": null,
      "max_height": null,
      "max_width": null,
      "min_height": null,
      "min_width": null,
      "object_fit": null,
      "object_position": null,
      "order": null,
      "overflow": null,
      "overflow_x": null,
      "overflow_y": null,
      "padding": null,
      "right": null,
      "top": null,
      "visibility": null,
      "width": null
     }
    },
    "70b9c3702c0342d0a191997a2acac452": {
     "model_module": "@jupyter-widgets/controls",
     "model_module_version": "1.5.0",
     "model_name": "HTMLModel",
     "state": {
      "_dom_classes": [],
      "_model_module": "@jupyter-widgets/controls",
      "_model_module_version": "1.5.0",
      "_model_name": "HTMLModel",
      "_view_count": null,
      "_view_module": "@jupyter-widgets/controls",
      "_view_module_version": "1.5.0",
      "_view_name": "HTMLView",
      "description": "",
      "description_tooltip": null,
      "layout": "IPY_MODEL_756ce40ae68c49749cd51320c4a5e41c",
      "placeholder": "​",
      "style": "IPY_MODEL_136ecda08d8a46c7b365f2dea32abd5b",
      "value": "100%"
     }
    },
    "756ce40ae68c49749cd51320c4a5e41c": {
     "model_module": "@jupyter-widgets/base",
     "model_module_version": "1.2.0",
     "model_name": "LayoutModel",
     "state": {
      "_model_module": "@jupyter-widgets/base",
      "_model_module_version": "1.2.0",
      "_model_name": "LayoutModel",
      "_view_count": null,
      "_view_module": "@jupyter-widgets/base",
      "_view_module_version": "1.2.0",
      "_view_name": "LayoutView",
      "align_content": null,
      "align_items": null,
      "align_self": null,
      "border": null,
      "bottom": null,
      "display": null,
      "flex": null,
      "flex_flow": null,
      "grid_area": null,
      "grid_auto_columns": null,
      "grid_auto_flow": null,
      "grid_auto_rows": null,
      "grid_column": null,
      "grid_gap": null,
      "grid_row": null,
      "grid_template_areas": null,
      "grid_template_columns": null,
      "grid_template_rows": null,
      "height": null,
      "justify_content": null,
      "justify_items": null,
      "left": null,
      "margin": null,
      "max_height": null,
      "max_width": null,
      "min_height": null,
      "min_width": null,
      "object_fit": null,
      "object_position": null,
      "order": null,
      "overflow": null,
      "overflow_x": null,
      "overflow_y": null,
      "padding": null,
      "right": null,
      "top": null,
      "visibility": null,
      "width": null
     }
    },
    "7c97c004966044b39c377dbe8d8a7b4b": {
     "model_module": "@jupyter-widgets/controls",
     "model_module_version": "1.5.0",
     "model_name": "FloatProgressModel",
     "state": {
      "_dom_classes": [],
      "_model_module": "@jupyter-widgets/controls",
      "_model_module_version": "1.5.0",
      "_model_name": "FloatProgressModel",
      "_view_count": null,
      "_view_module": "@jupyter-widgets/controls",
      "_view_module_version": "1.5.0",
      "_view_name": "ProgressView",
      "bar_style": "success",
      "description": "",
      "description_tooltip": null,
      "layout": "IPY_MODEL_487c8c8ce563494aa8ba671db8eff266",
      "max": 32342954,
      "min": 0,
      "orientation": "horizontal",
      "style": "IPY_MODEL_09b31be59e2e42a89e3747f60cecd1f8",
      "value": 32342954
     }
    },
    "7f8cfe9046ec4bb4a7065eb142d34681": {
     "model_module": "@jupyter-widgets/controls",
     "model_module_version": "1.5.0",
     "model_name": "DescriptionStyleModel",
     "state": {
      "_model_module": "@jupyter-widgets/controls",
      "_model_module_version": "1.5.0",
      "_model_name": "DescriptionStyleModel",
      "_view_count": null,
      "_view_module": "@jupyter-widgets/base",
      "_view_module_version": "1.2.0",
      "_view_name": "StyleView",
      "description_width": ""
     }
    },
    "81e10c230441446795ffccb50fd97561": {
     "model_module": "@jupyter-widgets/controls",
     "model_module_version": "1.5.0",
     "model_name": "HBoxModel",
     "state": {
      "_dom_classes": [],
      "_model_module": "@jupyter-widgets/controls",
      "_model_module_version": "1.5.0",
      "_model_name": "HBoxModel",
      "_view_count": null,
      "_view_module": "@jupyter-widgets/controls",
      "_view_module_version": "1.5.0",
      "_view_name": "HBoxView",
      "box_style": "",
      "children": [
       "IPY_MODEL_70b9c3702c0342d0a191997a2acac452",
       "IPY_MODEL_7c97c004966044b39c377dbe8d8a7b4b",
       "IPY_MODEL_07e0997df4414736b5d922e0dc7e27ee"
      ],
      "layout": "IPY_MODEL_0543ad187e594f69a8dc86993c16d823"
     }
    },
    "9fbe3cd5be354d2998e41898b6eb3761": {
     "model_module": "@jupyter-widgets/base",
     "model_module_version": "1.2.0",
     "model_name": "LayoutModel",
     "state": {
      "_model_module": "@jupyter-widgets/base",
      "_model_module_version": "1.2.0",
      "_model_name": "LayoutModel",
      "_view_count": null,
      "_view_module": "@jupyter-widgets/base",
      "_view_module_version": "1.2.0",
      "_view_name": "LayoutView",
      "align_content": null,
      "align_items": null,
      "align_self": null,
      "border": null,
      "bottom": null,
      "display": null,
      "flex": null,
      "flex_flow": null,
      "grid_area": null,
      "grid_auto_columns": null,
      "grid_auto_flow": null,
      "grid_auto_rows": null,
      "grid_column": null,
      "grid_gap": null,
      "grid_row": null,
      "grid_template_areas": null,
      "grid_template_columns": null,
      "grid_template_rows": null,
      "height": null,
      "justify_content": null,
      "justify_items": null,
      "left": null,
      "margin": null,
      "max_height": null,
      "max_width": null,
      "min_height": null,
      "min_width": null,
      "object_fit": null,
      "object_position": null,
      "order": null,
      "overflow": null,
      "overflow_x": null,
      "overflow_y": null,
      "padding": null,
      "right": null,
      "top": null,
      "visibility": null,
      "width": null
     }
    }
   }
  }
 },
 "nbformat": 4,
 "nbformat_minor": 4
}
